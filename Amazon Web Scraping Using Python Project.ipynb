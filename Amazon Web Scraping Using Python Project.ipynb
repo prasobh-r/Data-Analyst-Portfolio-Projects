{
 "cells": [
  {
   "cell_type": "markdown",
   "id": "dd51054e-6fcd-4dc8-970b-844285e2d767",
   "metadata": {},
   "source": [
    "Amazon Wob Scraping Using Python"
   ]
  },
  {
   "cell_type": "code",
   "execution_count": null,
   "id": "bd8a05e6-7422-441b-8c41-b31e00ea66dd",
   "metadata": {},
   "outputs": [],
   "source": [
    "# import libraries \n",
    "\n",
    "from bs4 import BeautifulSoup\n",
    "import requests\n",
    "import time\n",
    "import datetime\n",
    "\n",
    "import smtplib"
   ]
  },
  {
   "cell_type": "code",
   "execution_count": 10,
   "id": "4a595c20-1b6f-4387-b238-b9a52ba9c3e4",
   "metadata": {},
   "outputs": [
    {
     "name": "stdout",
     "output_type": "stream",
     "text": [
      "Product Name: Umadiya® Range Rover Defender 1:32 Scale Model Car Exclusive Alloy Metal Pull Back Die-cast Car Metal Pullback Toy car with Openable Doors & Light Music Best Gifts Toys Kids【Colors as Per Stock】\n",
      "MRP / Original Price: M.R.P.: ₹3,000.00\n",
      "Discount %: -70%\n",
      "Final Price: ₹888.\n",
      "Rating: 3.8 out of 5 stars\n"
     ]
    }
   ],
   "source": [
    "\n",
    "\n",
    "URL = 'https://www.amazon.in/s?k=car+toys&i=automotive&crid=337ZMVQ39AVLD&sprefix=car+toys+%2Cautomotive%2C542&ref=nb_sb_noss_2'\n",
    "headers = {\n",
    "    \"User-Agent\": \"Mozilla/5.0 (Windows NT 10.0; Win64; x64) AppleWebKit/537.36 (KHTML, like Gecko) Chrome/78.0.3904.108 Safari/537.36\"\n",
    "}\n",
    "\n",
    "page = requests.get(URL, headers=headers)\n",
    "soup = BeautifulSoup(page.content, \"html.parser\")\n",
    "\n",
    "# Product Name\n",
    "title_tag = soup.find(id='productTitle')\n",
    "title = title_tag.get_text().strip() if title_tag else \"Title not found\"\n",
    "\n",
    "# MRP / Original Price\n",
    "mrp_tag = soup.find(\"span\", class_=\"a-size-small aok-offscreen\")\n",
    "mrp_text = mrp_tag.get_text().strip() if mrp_tag else \"MRP not found\"\n",
    "\n",
    "# Discount %\n",
    "discount_tag = soup.find(\"span\", class_=\"savingsPercentage\")\n",
    "discount = discount_tag.get_text().strip() if discount_tag else \"No discount\"\n",
    "\n",
    "# Final selling price\n",
    "price_whole_tag = soup.find(\"span\", class_=\"a-price-whole\")\n",
    "price_symbol_tag = soup.find(\"span\", class_=\"a-price-symbol\")\n",
    "final_price = f\"{price_symbol_tag.text}{price_whole_tag.text}\" if price_whole_tag and price_symbol_tag else \"Price not found\"\n",
    "\n",
    "# Ratings\n",
    "rating_tag = soup.find(\"span\", class_=\"a-icon-alt\")\n",
    "rating = rating_tag.get_text().strip() if rating_tag else \"No rating\"\n",
    "\n",
    "print(\"Product Name:\", title)\n",
    "print(\"MRP / Original Price:\", mrp_text)\n",
    "print(\"Discount %:\", discount)\n",
    "print(\"Final Price:\", final_price)\n",
    "print(\"Rating:\", rating)\n"
   ]
  },
  {
   "cell_type": "code",
   "execution_count": 12,
   "id": "11ceedc8-98c8-4898-a176-d00539ce27a2",
   "metadata": {},
   "outputs": [
    {
     "name": "stdout",
     "output_type": "stream",
     "text": [
      "MRP: 3000.00\n",
      "Product Name: Umadiya® Range Rover Defender 1:32 Scale Model Car Exclusive Alloy Metal Pull Back Die-cast Car Metal Pullback Toy car with Openable Doors & Light Music Best Gifts Toys Kids【Colors as Per Stock】\n",
      "Final Price: 888.\n",
      "MRP: 3000.00\n",
      "Discount %: 70\n",
      "Rating: 3.8\n"
     ]
    }
   ],
   "source": [
    "# Clean up the product name and prices\n",
    "title = title.strip()\n",
    "\n",
    "# Final price: remove currency symbol and any commas\n",
    "final_price_clean = final_price.strip().replace(\"₹\",\"\").replace(\",\",\"\")\n",
    "\n",
    "# MRP: remove currency symbol and extract numeric value\n",
    "mrp_tag = soup.find(\"span\", class_=\"a-size-small aok-offscreen\")\n",
    "if mrp_tag:\n",
    "    mrp_text = mrp_tag.get_text().strip()  # e.g., \"M.R.P.: ₹3,000.00\"\n",
    "else:\n",
    "    # fallback: visible strike-through price\n",
    "    mrp_span = soup.find(\"span\", class_=\"a-price a-text-price\")\n",
    "    mrp_text = mrp_span.get_text().strip() if mrp_span else \"MRP not found\"\n",
    "\n",
    "# Clean numeric value\n",
    "import re\n",
    "mrp_clean = re.findall(r'\\d[\\d,]*\\.?\\d*', mrp_text)  # extract numeric part\n",
    "mrp_clean = mrp_clean[0].replace(\",\", \"\") if mrp_clean else \"MRP not found\"\n",
    "\n",
    "print(\"MRP:\", mrp_clean)  # Output: 3000\n",
    "\n",
    "\n",
    "# Discount: remove % if you want numeric only\n",
    "discount_clean = discount.replace(\"%\",\"\").replace(\"-\",\"\").strip()\n",
    "\n",
    "# Rating: extract numeric part only\n",
    "rating_clean = rating.split()[0]  # e.g., '3.8'\n",
    "\n",
    "print(\"Product Name:\", title)\n",
    "print(\"Final Price:\", final_price_clean)\n",
    "print(\"MRP:\", mrp_clean)\n",
    "print(\"Discount %:\", discount_clean)\n",
    "print(\"Rating:\", rating_clean)\n"
   ]
  },
  {
   "cell_type": "code",
   "execution_count": 13,
   "id": "6a5be942-e6e2-40e2-9c0d-5f92b9471d21",
   "metadata": {},
   "outputs": [
    {
     "name": "stdout",
     "output_type": "stream",
     "text": [
      "2025-08-22\n"
     ]
    }
   ],
   "source": [
    "# Create a Timestamp for your output to track when data was collected\n",
    "\n",
    "import datetime\n",
    "\n",
    "today = datetime.date.today()\n",
    "\n",
    "print(today)"
   ]
  },
  {
   "cell_type": "code",
   "execution_count": 15,
   "id": "0ad36b98-f72f-4472-a736-7f537c7c2948",
   "metadata": {},
   "outputs": [
    {
     "name": "stdout",
     "output_type": "stream",
     "text": [
      "Data saved to CSV successfully!\n"
     ]
    }
   ],
   "source": [
    "import csv\n",
    "from datetime import datetime\n",
    "\n",
    "# Cleaned data\n",
    "title = title.strip()\n",
    "price_clean = final_price_clean\n",
    "mrp_clean = mrp_clean\n",
    "discount_clean = discount_clean\n",
    "rating_clean = rating_clean\n",
    "today = datetime.today().strftime('%Y-%m-%d')  # e.g., 2025-08-22\n",
    "\n",
    "# Header and data\n",
    "header = ['Title', 'Final Price', 'MRP', 'Discount %', 'Rating', 'Date']\n",
    "data = [title, price_clean, mrp_clean, discount_clean, rating_clean, today]\n",
    "\n",
    "# Write to CSV (append mode so you don't overwrite previous entries)\n",
    "file_path = 'AmazonWeb.csv'\n",
    "with open(file_path, 'a', newline='', encoding='UTF8') as f:\n",
    "    writer = csv.writer(f)\n",
    "    \n",
    "    # Write header only if file is empty\n",
    "    if f.tell() == 0:\n",
    "        writer.writerow(header)\n",
    "    \n",
    "    writer.writerow(data)\n",
    "\n",
    "print(\"Data saved to CSV successfully!\")\n"
   ]
  },
  {
   "cell_type": "code",
   "execution_count": 7,
   "id": "67400b04-ac0f-468e-9207-c5a5b8ed6e98",
   "metadata": {},
   "outputs": [
    {
     "name": "stdout",
     "output_type": "stream",
     "text": [
      "🔎 Scraping page 1...\n",
      "🔎 Scraping page 2...\n",
      "🔎 Scraping page 3...\n",
      "🔎 Scraping page 4...\n",
      "🔎 Scraping page 5...\n",
      "✅ Scraped 120 products in total and saved to AmazonFullResults.csv\n"
     ]
    }
   ],
   "source": [
    "\n",
    "# Multiple Products Scarping \n",
    "\n",
    "import requests\n",
    "from bs4 import BeautifulSoup\n",
    "import re\n",
    "import csv\n",
    "import time\n",
    "\n",
    "# Base URL for Amazon search results\n",
    "BASE_URL = \"https://www.amazon.in/s?i=toys&rh=n%3A1378242031&s=popularity-rank&fs=true&ref=lp_1378242031_sar&page={}\"\n",
    "\n",
    "headers = {\n",
    "    \"User-Agent\": \"Mozilla/5.0 (Windows NT 10.0; Win64; x64) AppleWebKit/537.36 (KHTML, like Gecko) Chrome/115.0 Safari/537.36\",\n",
    "    \"Accept-Language\": \"en-IN,en;q=0.9\"\n",
    "}\n",
    "\n",
    "all_rows = []\n",
    "header = [\"Title\", \"Price\", \"MRP\", \"Discount\", \"Rating\", \"Age Range\"]\n",
    "\n",
    "# Loop through multiple pages\n",
    "for page_num in range(1, 6):  # scrape 5 pages (change as needed)\n",
    "    print(f\"🔎 Scraping page {page_num}...\")\n",
    "    url = BASE_URL.format(page_num)\n",
    "    page = requests.get(url, headers=headers)\n",
    "    soup = BeautifulSoup(page.content, \"html.parser\")\n",
    "\n",
    "    products = soup.find_all(\"div\", {\"data-component-type\": \"s-search-result\"})\n",
    "    if not products:\n",
    "        print(\"⚠️ No more products found, stopping.\")\n",
    "        break\n",
    "\n",
    "    for product in products:\n",
    "        # --- Title ---\n",
    "        title_tag = product.find(\"h2\")\n",
    "        title = title_tag.get_text().strip() if title_tag else \"N/A\"\n",
    "\n",
    "        # --- Price ---\n",
    "        price_tag = product.find(\"span\", class_=\"a-price-whole\")\n",
    "        price = price_tag.get_text().strip().replace(\",\", \"\") if price_tag else \"0\"\n",
    "\n",
    "        # --- MRP ---\n",
    "        mrp_tag = product.find(\"span\", class_=\"a-text-price\")\n",
    "        mrp_text = mrp_tag.get_text().strip() if mrp_tag else \"0\"\n",
    "        mrp_clean = re.findall(r\"\\d[\\d,]*\\.?\\d*\", mrp_text)\n",
    "        mrp_clean = mrp_clean[0].replace(\",\", \"\") if mrp_clean else \"0\"\n",
    "\n",
    "        # --- Discount ---\n",
    "        discount_tag = product.find(\"span\", string=re.compile(r\"% off\"))\n",
    "        if discount_tag:\n",
    "            discount_clean = re.findall(r\"\\d+\", discount_tag.get_text())\n",
    "            discount_clean = discount_clean[0] + \"% off\" if discount_clean else \"0% off\"\n",
    "        else:\n",
    "            discount_clean = \"0% off\"\n",
    "\n",
    "        # --- Rating ---\n",
    "        rating_tag = product.find(\"span\", class_=\"a-icon-alt\")\n",
    "        rating = rating_tag.get_text().split()[0] if rating_tag else \"0\"\n",
    "\n",
    "        # --- Age Range ---\n",
    "        age_parent = product.find(\"div\", {\"data-cy\": \"product-details-recipe\"})\n",
    "        if age_parent:\n",
    "            age_tag = age_parent.find(\"div\", class_=\"a-row a-size-base a-color-base\")\n",
    "            age_text = age_tag.get_text().strip() if age_tag else \"N/A\"\n",
    "        else:\n",
    "            age_text = \"N/A\"\n",
    "\n",
    "        # Save row\n",
    "        all_rows.append([title, price, mrp_clean, discount_clean, rating, age_text])\n",
    "\n",
    "    # Small delay to avoid detection\n",
    "    time.sleep(2)\n",
    "\n",
    "# Save results to CSV\n",
    "with open(\"AmazonFullResults.csv\", \"w\", newline=\"\", encoding=\"UTF-8\") as f:\n",
    "    writer = csv.writer(f)\n",
    "    writer.writerow(header)\n",
    "    writer.writerows(all_rows)\n",
    "\n",
    "print(f\"✅ Scraped {len(all_rows)} products in total and saved to AmazonFullResults.csv\")\n"
   ]
  },
  {
   "cell_type": "code",
   "execution_count": 16,
   "id": "717db198-5d7c-401e-bec5-8822b7460734",
   "metadata": {},
   "outputs": [
    {
     "name": "stdout",
     "output_type": "stream",
     "text": [
      "                                               Title  Final Price   MRP  \\\n",
      "0  Umadiya® Range Rover Defender 1:32 Scale Model...          888  3000   \n",
      "\n",
      "   Discount %  Rating        Date  \n",
      "0          70     3.8  22-08-2025  \n"
     ]
    }
   ],
   "source": [
    "import pandas as pd\n",
    "\n",
    "df = pd.read_csv(r'C:\\Users\\praso\\AmazonWeb.csv')\n",
    "\n",
    "print(df)"
   ]
  },
  {
   "cell_type": "code",
   "execution_count": null,
   "id": "967ac743-9091-4a27-bebb-9c660fbf1ecf",
   "metadata": {},
   "outputs": [],
   "source": []
  }
 ],
 "metadata": {
  "kernelspec": {
   "display_name": "Python 3 (ipykernel)",
   "language": "python",
   "name": "python3"
  },
  "language_info": {
   "codemirror_mode": {
    "name": "ipython",
    "version": 3
   },
   "file_extension": ".py",
   "mimetype": "text/x-python",
   "name": "python",
   "nbconvert_exporter": "python",
   "pygments_lexer": "ipython3",
   "version": "3.13.5"
  }
 },
 "nbformat": 4,
 "nbformat_minor": 5
}
